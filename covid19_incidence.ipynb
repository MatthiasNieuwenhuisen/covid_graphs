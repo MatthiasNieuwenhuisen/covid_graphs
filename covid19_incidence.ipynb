{
 "cells": [
  {
   "cell_type": "code",
   "execution_count": null,
   "metadata": {},
   "outputs": [],
   "source": [
    "import matplotlib.pyplot as pyplot\n",
    "import pandas as pandas\n",
    "from datetime import timedelta\n",
    "import numpy as np\n",
    "import matplotlib.dates as mdates\n",
    "from scipy.optimize import curve_fit\n",
    "\n",
    "def exponential_fit(x, a, b, c):\n",
    "    return a*np.exp(-b*x) + c"
   ]
  },
  {
   "cell_type": "code",
   "execution_count": null,
   "metadata": {},
   "outputs": [],
   "source": [
    "#dataset = pandas.read_csv(\"~/Downloads/v3Nbr69N\",sep=\",\",header=0,encoding=\"utf8\",index_col=0,parse_dates=True,dayfirst=True)\n",
    "dataset_dl = pandas.read_csv(\"https://opendata.ecdc.europa.eu/covid19/casedistribution/csv\",sep=\",\",header=0,encoding=\"utf8\",index_col=0,parse_dates=True,dayfirst=True)\n",
    "dataset_bonn_dl = pandas.read_csv(\"https://stadtplan.bonn.de/csv?OD=4379\",sep=\";\",header=0,encoding=\"utf8\",index_col=0,parse_dates=True)\n",
    "dataset_muenster_dl = pandas.read_csv(\"https://raw.githubusercontent.com/od-ms/resources/master/coronavirus-fallzahlen-regierungsbezirk-muenster.csv\",sep=\",\",header=0,encoding=\"utf8\",parse_dates=True,dayfirst=True)"
   ]
  },
  {
   "cell_type": "code",
   "execution_count": null,
   "metadata": {},
   "outputs": [],
   "source": [
    "# Setup\n",
    "#countries = [\"DE\",\"SE\",\"US\"]\n",
    "countries = [\"DE\",\"BONN\",\"MUENSTER\"]\n",
    "max_days=300\n",
    "extrapolation_look_back = 30\n",
    "extrapolation_future = 5\n",
    "\n",
    "dataset = dataset_dl\n",
    "dataset_bonn = dataset_bonn_dl\n",
    "dataset_regbez_muenster = dataset_muenster_dl"
   ]
  },
  {
   "cell_type": "code",
   "execution_count": null,
   "metadata": {},
   "outputs": [],
   "source": [
    "# Convert Bonn dataset to ECDC format and append\n",
    "diff_bonn = dataset_bonn.sort_index(ascending=False).diff(periods=-1)\n",
    "diff_bonn['popData2019'] = 330224\n",
    "diff_bonn['countriesAndTerritories'] = 'Bonn'\n",
    "diff_bonn['geoId'] = 'BONN'\n",
    "diff_bonn = diff_bonn.rename(columns={\"positiv_getest\": \"cases\"})\n",
    "relevant_bonn = diff_bonn[['geoId','cases','popData2019','countriesAndTerritories']]\n",
    "dataset = dataset.append(relevant_bonn)"
   ]
  },
  {
   "cell_type": "code",
   "execution_count": null,
   "metadata": {},
   "outputs": [],
   "source": [
    "# Convert Muenster dataset to ECDC format and append\n",
    "dataset_muenster = dataset_regbez_muenster[dataset_regbez_muenster['Gebiet'].isin(['Stadt Münster'])]\n",
    "dataset_muenster_relevant = dataset_muenster[['Datum','Bestätigte Faelle']].set_index('Datum')\n",
    "\n",
    "dataset_muenster_relevant.index = pandas.DatetimeIndex(dataset_muenster_relevant.index,dayfirst=True)\n",
    "dataset_muenster_relevant = dataset_muenster_relevant.diff(periods=-1)\n",
    "\n",
    "idx = pandas.date_range(start=dataset_muenster_relevant.index[-1] - timedelta(days=0), end=dataset_muenster_relevant.index[0] - timedelta(days=0))[::-1]\n",
    "dataset_muenster_relevant = dataset_muenster_relevant.reindex(idx,fill_value=0)\n",
    "dataset_muenster_relevant['popData2019'] = 315293\n",
    "dataset_muenster_relevant['countriesAndTerritories'] = 'Münster'\n",
    "dataset_muenster_relevant['geoId'] = 'MUENSTER'\n",
    "dataset_muenster_relevant = dataset_muenster_relevant.rename(columns={\"Bestätigte Faelle\": \"cases\"})\n",
    "dataset = dataset.append(dataset_muenster_relevant)"
   ]
  },
  {
   "cell_type": "code",
   "execution_count": null,
   "metadata": {},
   "outputs": [],
   "source": [
    "# Get relevant columns\n",
    "relevant = dataset[['geoId','cases','popData2019','countriesAndTerritories']]\n",
    "# Put requested countries in different tables, rename columns with country suffix for later merging\n",
    "\n",
    "countrydata = {}\n",
    "for country in countries:\n",
    "    countrydata[country] = relevant[relevant['geoId'].isin([country])]\n",
    "    countrydata[country] = countrydata[country].rename(columns={\"cases\": \"cases_\"+country, \"popData2019\": \"popData2019_\"+country})\n",
    "\n",
    "# Merge country data into single table\n",
    "merged_data = countrydata[countries[0]]\n",
    "for country in countries[1:]:\n",
    "    merged_data = pandas.merge(merged_data,countrydata[country],how='left',left_index=True,right_index=True)"
   ]
  },
  {
   "cell_type": "code",
   "execution_count": null,
   "metadata": {},
   "outputs": [],
   "source": [
    "# Calculate 7-day incidence\n",
    "for country in countries:\n",
    "    merged_data[\"cases_per_100k_\"+country] = merged_data[\"cases_\"+country] * 100000 / merged_data[\"popData2019_\"+country]\n",
    "\n",
    "indexer = pandas.api.indexers.FixedForwardWindowIndexer(window_size=7)\n",
    "for country in countries:\n",
    "    merged_data['cum_cases_7_days_'+country] = merged_data['cases_per_100k_'+country].shift(1).rolling(window=indexer).sum()\n",
    "\n",
    "# Plot data\n",
    "fig = pyplot.figure(figsize=(16, 12))\n",
    "ax1 = fig.add_subplot(1,1,1)\n",
    "\n",
    "ax1.set_ylabel('Cummulative Cases 7 Days per 100k Pop.')\n",
    "for country in countries:\n",
    "    color = next(ax1._get_lines.prop_cycler)['color']\n",
    "    country_name = dataset[dataset['geoId']==country].head(1)['countriesAndTerritories'].iloc[0]\n",
    "    merged_data[1:max_days]['cum_cases_7_days_'+country].plot(kind='line',ax=ax1,label=country_name,color=color)\n",
    "    # extrapolation\n",
    "    try:\n",
    "        if country != \"MUENSTER\":\n",
    "            y = merged_data[1:extrapolation_look_back]['cum_cases_7_days_' + country]\n",
    "            i = y.index.to_pydatetime()\n",
    "            xi = mdates.date2num(i)\n",
    "            fitting_parameters, covariance = curve_fit(exponential_fit, range(len(xi)), y)\n",
    "            a, b, c = fitting_parameters\n",
    "            new_data = []\n",
    "            new_data_index = []\n",
    "            for i in reversed(range(-extrapolation_future,len(y))):\n",
    "                new_data.append(exponential_fit(i, a, b, c))\n",
    "                new_data_index.append(y.index[0]+pandas.DateOffset(-i))\n",
    "            df = pandas.DataFrame(index=new_data_index,data=new_data)\n",
    "            pyplot.plot(df,color=color,linestyle='dashed')\n",
    "    except:\n",
    "        pass\n",
    "    \n",
    "ax1.legend()\n",
    "ax1.set_xlabel('Date')\n",
    "pyplot.show()\n",
    "\n",
    "# Print last two days\n",
    "print( merged_data[1:2].index.date[0] )\n",
    "for country in countries:\n",
    "    country_name = dataset[dataset['geoId']==country].head(1)['countriesAndTerritories'].iloc[0]\n",
    "    country_incidence = merged_data[1:2]['cum_cases_7_days_'+country].iloc[0]\n",
    "    country_incidence_yesterday = merged_data[2:3]['cum_cases_7_days_'+country].iloc[0]\n",
    "    print( \"{}: {:.1f} (Gestern: {:.1f})\".format( country_name, country_incidence, country_incidence_yesterday ) )"
   ]
  },
  {
   "cell_type": "code",
   "execution_count": null,
   "metadata": {},
   "outputs": [],
   "source": []
  }
 ],
 "metadata": {
  "kernelspec": {
   "display_name": "Python 3",
   "language": "python",
   "name": "python3"
  },
  "language_info": {
   "codemirror_mode": {
    "name": "ipython",
    "version": 3
   },
   "file_extension": ".py",
   "mimetype": "text/x-python",
   "name": "python",
   "nbconvert_exporter": "python",
   "pygments_lexer": "ipython3",
   "version": "3.6.9"
  }
 },
 "nbformat": 4,
 "nbformat_minor": 2
}
